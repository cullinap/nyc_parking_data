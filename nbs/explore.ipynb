{
 "cells": [
  {
   "cell_type": "code",
   "execution_count": 7,
   "metadata": {},
   "outputs": [
    {
     "ename": "ModuleNotFoundError",
     "evalue": "No module named 'pandas'",
     "output_type": "error",
     "traceback": [
      "\u001b[0;31m---------------------------------------------------------------------------\u001b[0m",
      "\u001b[0;31mModuleNotFoundError\u001b[0m                       Traceback (most recent call last)",
      "\u001b[1;32m/Users/patrickcullinane/Documents/code/nyc_parking_data_exploration/expore.ipynb Cell 1'\u001b[0m in \u001b[0;36m<cell line: 3>\u001b[0;34m()\u001b[0m\n\u001b[1;32m      <a href='vscode-notebook-cell:/Users/patrickcullinane/Documents/code/nyc_parking_data_exploration/expore.ipynb#ch0000000?line=0'>1</a>\u001b[0m \u001b[39mimport\u001b[39;00m \u001b[39mjson\u001b[39;00m \n\u001b[1;32m      <a href='vscode-notebook-cell:/Users/patrickcullinane/Documents/code/nyc_parking_data_exploration/expore.ipynb#ch0000000?line=1'>2</a>\u001b[0m \u001b[39mimport\u001b[39;00m \u001b[39mrequests\u001b[39;00m \n\u001b[0;32m----> <a href='vscode-notebook-cell:/Users/patrickcullinane/Documents/code/nyc_parking_data_exploration/expore.ipynb#ch0000000?line=2'>3</a>\u001b[0m \u001b[39mimport\u001b[39;00m \u001b[39mpandas\u001b[39;00m \u001b[39mas\u001b[39;00m \u001b[39mpd\u001b[39;00m\n",
      "\u001b[0;31mModuleNotFoundError\u001b[0m: No module named 'pandas'"
     ]
    }
   ],
   "source": [
    "import json \n",
    "import requests \n",
    "import pandas as pd "
   ]
  },
  {
   "cell_type": "code",
   "execution_count": 3,
   "metadata": {},
   "outputs": [
    {
     "data": {
      "text/plain": [
       "{'plate': 'GUM4125',\n",
       " 'state': 'NY',\n",
       " 'license_type': 'PAS',\n",
       " 'summons_number': '4722805829',\n",
       " 'issue_date': '02/08/2021',\n",
       " 'violation_time': '08:34A',\n",
       " 'violation': 'PHTO SCHOOL ZN SPEED VIOLATION',\n",
       " 'judgment_entry_date': '05/06/2021',\n",
       " 'fine_amount': '50',\n",
       " 'penalty_amount': '25',\n",
       " 'interest_amount': '2.64',\n",
       " 'reduction_amount': '27.43',\n",
       " 'payment_amount': '50.21',\n",
       " 'amount_due': '0',\n",
       " 'precinct': '000',\n",
       " 'county': 'BK',\n",
       " 'issuing_agency': 'DEPARTMENT OF TRANSPORTATION',\n",
       " 'violation_status': 'HEARING HELD-GUILTY REDUCTION',\n",
       " 'summons_image': {'url': 'http://nycserv.nyc.gov/NYCServWeb/ShowImage?searchID=VGtSamVVMXFaM2RPVkdkNVQxRTlQUT09&locationName=_____________________',\n",
       "  'description': 'View Summons'}}"
      ]
     },
     "execution_count": 3,
     "metadata": {},
     "output_type": "execute_result"
    }
   ],
   "source": [
    "page = requests.get('https://data.cityofnewyork.us/resource/nc67-uf89.json')\n",
    "parkingData = json.loads(page.content)\n",
    "parkingData[0]"
   ]
  },
  {
   "cell_type": "code",
   "execution_count": 5,
   "metadata": {},
   "outputs": [],
   "source": [
    "(\n",
    "    pd.read\n",
    ")"
   ]
  },
  {
   "cell_type": "code",
   "execution_count": 6,
   "metadata": {},
   "outputs": [
    {
     "data": {
      "text/plain": [
       "'GUM4125'"
      ]
     },
     "execution_count": 6,
     "metadata": {},
     "output_type": "execute_result"
    }
   ],
   "source": []
  },
  {
   "cell_type": "code",
   "execution_count": null,
   "metadata": {},
   "outputs": [],
   "source": []
  }
 ],
 "metadata": {
  "kernelspec": {
   "display_name": "Python 3.8.9 64-bit",
   "language": "python",
   "name": "python3"
  },
  "language_info": {
   "codemirror_mode": {
    "name": "ipython",
    "version": 3
   },
   "file_extension": ".py",
   "mimetype": "text/x-python",
   "name": "python",
   "nbconvert_exporter": "python",
   "pygments_lexer": "ipython3",
   "version": "3.8.9"
  },
  "orig_nbformat": 4,
  "vscode": {
   "interpreter": {
    "hash": "31f2aee4e71d21fbe5cf8b01ff0e069b9275f58929596ceb00d14d90e3e16cd6"
   }
  }
 },
 "nbformat": 4,
 "nbformat_minor": 2
}
